{
 "cells": [
  {
   "cell_type": "code",
   "execution_count": 1,
   "metadata": {},
   "outputs": [],
   "source": [
    "# dataset:https://www.kaggle.com/grouplens/movielens-20m-dataset"
   ]
  },
  {
   "cell_type": "code",
   "execution_count": 2,
   "metadata": {},
   "outputs": [],
   "source": [
    "import pandas as pd\n",
    "import numpy as np\n",
    "import socket\n",
    "from socket import socket"
   ]
  },
  {
   "cell_type": "code",
   "execution_count": 3,
   "metadata": {},
   "outputs": [],
   "source": [
    "import findspark\n",
    "findspark.init()\n",
    "import pyspark"
   ]
  },
  {
   "cell_type": "code",
   "execution_count": 4,
   "metadata": {},
   "outputs": [],
   "source": [
    "from pyspark.sql import SparkSession\n",
    "from pyspark import SparkContext\n",
    "from pyspark import SparkConf\n",
    "from pyspark.sql import SQLContext\n",
    "from pyspark.sql.functions import col, expr\n",
    "from pyspark.sql import udf\n",
    "from pyspark.sql.types import BooleanType\n",
    "from pyspark.sql.window import Window\n",
    "from pyspark.sql.functions import monotonically_increasing_id,row_number\n",
    "\n",
    "import pyspark.sql.functions as f\n",
    "\n",
    "from pyspark.sql.functions import collect_set\n",
    "from pyspark.sql.functions import countDistinct\n",
    "from pyspark.sql import Window\n",
    "from pyspark.sql.functions import col, mean, sum, desc\n",
    "from pyspark.sql.functions import when\n",
    "from pyspark.sql.functions import explode, split #exclude null\n",
    "from pyspark.sql.functions import lit\n",
    "from pyspark.sql.functions import explode_outer #include null\n",
    "from pyspark.sql.functions import posexplode_outer\n",
    "from pyspark.sql import Window"
   ]
  },
  {
   "cell_type": "code",
   "execution_count": 5,
   "metadata": {},
   "outputs": [],
   "source": [
    "# sqlContext = SQLContext(sc)\n",
    "sc = SparkContext.getOrCreate()\n",
    "spark = SparkSession.builder.appName(\"csvload\").getOrCreate()"
   ]
  },
  {
   "cell_type": "code",
   "execution_count": 6,
   "metadata": {},
   "outputs": [],
   "source": [
    "genome_scores_fp = r\"/Users/carolliu/Desktop/project_new/movielens/datasets/genome_scores.csv\"\n",
    "genome_tags_fp = r\"/Users/carolliu/Desktop/project_new/movielens/datasets/genome_tags.csv\"\n",
    "link_fp = r\"/Users/carolliu/Desktop/project_new/movielens/datasets/link.csv\"\n",
    "movie_fp = r\"/Users/carolliu/Desktop/project_new/movielens/datasets/movie.csv\"\n",
    "rating_fp = r\"/Users/carolliu/Desktop/project_new/movielens/datasets/rating.csv\"\n",
    "tag_fp = r\"/Users/carolliu/Desktop/project_new/movielens/datasets/tag.csv\""
   ]
  },
  {
   "cell_type": "code",
   "execution_count": 7,
   "metadata": {},
   "outputs": [],
   "source": [
    "genome_scores = spark.read.csv(genome_scores_fp, header=True, inferSchema=True)\n",
    "genome_tags = spark.read.csv(genome_tags_fp, header=True, inferSchema=True) \n",
    "link = spark.read.csv(link_fp, header=True, inferSchema=True)\n",
    "movie = spark.read.csv(movie_fp, header=True, inferSchema=True)\n",
    "rating = spark.read.csv(rating_fp, header=True, inferSchema=True)\n",
    "tag = spark.read.csv(tag_fp, header=True, inferSchema=True)"
   ]
  },
  {
   "cell_type": "code",
   "execution_count": 8,
   "metadata": {},
   "outputs": [
    {
     "name": "stdout",
     "output_type": "stream",
     "text": [
      "+-------+--------------------+--------------------+\n",
      "|movieId|               title|              genres|\n",
      "+-------+--------------------+--------------------+\n",
      "|      1|    Toy Story (1995)|Adventure|Animati...|\n",
      "|      2|      Jumanji (1995)|Adventure|Childre...|\n",
      "|      3|Grumpier Old Men ...|      Comedy|Romance|\n",
      "|      4|Waiting to Exhale...|Comedy|Drama|Romance|\n",
      "|      5|Father of the Bri...|              Comedy|\n",
      "|      6|         Heat (1995)|Action|Crime|Thri...|\n",
      "|      7|      Sabrina (1995)|      Comedy|Romance|\n",
      "|      8| Tom and Huck (1995)|  Adventure|Children|\n",
      "|      9| Sudden Death (1995)|              Action|\n",
      "|     10|    GoldenEye (1995)|Action|Adventure|...|\n",
      "|     11|American Presiden...|Comedy|Drama|Romance|\n",
      "|     12|Dracula: Dead and...|       Comedy|Horror|\n",
      "|     13|        Balto (1995)|Adventure|Animati...|\n",
      "|     14|        Nixon (1995)|               Drama|\n",
      "|     15|Cutthroat Island ...|Action|Adventure|...|\n",
      "|     16|       Casino (1995)|         Crime|Drama|\n",
      "|     17|Sense and Sensibi...|       Drama|Romance|\n",
      "|     18|   Four Rooms (1995)|              Comedy|\n",
      "|     19|Ace Ventura: When...|              Comedy|\n",
      "|     20|  Money Train (1995)|Action|Comedy|Cri...|\n",
      "+-------+--------------------+--------------------+\n",
      "only showing top 20 rows\n",
      "\n",
      "root\n",
      " |-- movieId: integer (nullable = true)\n",
      " |-- title: string (nullable = true)\n",
      " |-- genres: string (nullable = true)\n",
      "\n",
      "+------+-------+------+-------------------+\n",
      "|userId|movieId|rating|          timestamp|\n",
      "+------+-------+------+-------------------+\n",
      "|     1|      2|   3.5|2005-04-02 23:53:47|\n",
      "|     1|     29|   3.5|2005-04-02 23:31:16|\n",
      "|     1|     32|   3.5|2005-04-02 23:33:39|\n",
      "|     1|     47|   3.5|2005-04-02 23:32:07|\n",
      "|     1|     50|   3.5|2005-04-02 23:29:40|\n",
      "|     1|    112|   3.5|2004-09-10 03:09:00|\n",
      "|     1|    151|   4.0|2004-09-10 03:08:54|\n",
      "|     1|    223|   4.0|2005-04-02 23:46:13|\n",
      "|     1|    253|   4.0|2005-04-02 23:35:40|\n",
      "|     1|    260|   4.0|2005-04-02 23:33:46|\n",
      "|     1|    293|   4.0|2005-04-02 23:31:43|\n",
      "|     1|    296|   4.0|2005-04-02 23:32:47|\n",
      "|     1|    318|   4.0|2005-04-02 23:33:18|\n",
      "|     1|    337|   3.5|2004-09-10 03:08:29|\n",
      "|     1|    367|   3.5|2005-04-02 23:53:00|\n",
      "|     1|    541|   4.0|2005-04-02 23:30:03|\n",
      "|     1|    589|   3.5|2005-04-02 23:45:57|\n",
      "|     1|    593|   3.5|2005-04-02 23:31:01|\n",
      "|     1|    653|   3.0|2004-09-10 03:08:11|\n",
      "|     1|    919|   3.5|2004-09-10 03:07:01|\n",
      "+------+-------+------+-------------------+\n",
      "only showing top 20 rows\n",
      "\n",
      "root\n",
      " |-- userId: integer (nullable = true)\n",
      " |-- movieId: integer (nullable = true)\n",
      " |-- rating: double (nullable = true)\n",
      " |-- timestamp: string (nullable = true)\n",
      "\n"
     ]
    }
   ],
   "source": [
    "# genome_scores.show()\n",
    "# genome_scores.printSchema()\n",
    "\n",
    "# genome_tags.show()\n",
    "# genome_tags.printSchema()\n",
    "\n",
    "# link.show()\n",
    "# link.printSchema()\n",
    "\n",
    "movie.show()\n",
    "movie.printSchema()\n",
    "\n",
    "rating.show()\n",
    "rating.printSchema()\n",
    "\n",
    "userList = rating.agg(collect_set('userId')).collect()\n",
    "# print(userList)\n",
    "# print(type(userList))\n",
    "\n",
    "# tag.show()\n",
    "# tag.printSchema()"
   ]
  },
  {
   "cell_type": "code",
   "execution_count": 9,
   "metadata": {},
   "outputs": [
    {
     "name": "stdout",
     "output_type": "stream",
     "text": [
      "+-------------------+\n",
      "|     max(timestamp)|\n",
      "+-------------------+\n",
      "|2015-03-31 06:40:02|\n",
      "+-------------------+\n",
      "\n",
      "+-------------------+\n",
      "|     min(timestamp)|\n",
      "+-------------------+\n",
      "|1995-01-09 11:46:44|\n",
      "+-------------------+\n",
      "\n",
      "+-----------+\n",
      "|max(rating)|\n",
      "+-----------+\n",
      "|        5.0|\n",
      "+-----------+\n",
      "\n",
      "+-----------+\n",
      "|min(rating)|\n",
      "+-----------+\n",
      "|        0.5|\n",
      "+-----------+\n",
      "\n"
     ]
    },
    {
     "data": {
      "text/plain": [
       "27278"
      ]
     },
     "execution_count": 9,
     "metadata": {},
     "output_type": "execute_result"
    }
   ],
   "source": [
    "rating.agg({'timestamp': 'max'}).show()\n",
    "rating.agg({'timestamp': 'min'}).show()\n",
    "rating.agg({'rating': 'max'}).show()\n",
    "rating.agg({'rating': 'min'}).show()\n",
    "movie.count()"
   ]
  },
  {
   "cell_type": "code",
   "execution_count": 10,
   "metadata": {},
   "outputs": [
    {
     "name": "stdout",
     "output_type": "stream",
     "text": [
      "+-------+--------------------+--------------------+---------+---+\n",
      "|movieId|               title|              genres|    genre|tag|\n",
      "+-------+--------------------+--------------------+---------+---+\n",
      "|      1|    Toy Story (1995)|Adventure|Animati...|Adventure|  1|\n",
      "|      1|    Toy Story (1995)|Adventure|Animati...|Animation|  1|\n",
      "|      1|    Toy Story (1995)|Adventure|Animati...| Children|  1|\n",
      "|      1|    Toy Story (1995)|Adventure|Animati...|   Comedy|  1|\n",
      "|      1|    Toy Story (1995)|Adventure|Animati...|  Fantasy|  1|\n",
      "|      2|      Jumanji (1995)|Adventure|Childre...|Adventure|  1|\n",
      "|      2|      Jumanji (1995)|Adventure|Childre...| Children|  1|\n",
      "|      2|      Jumanji (1995)|Adventure|Childre...|  Fantasy|  1|\n",
      "|      3|Grumpier Old Men ...|      Comedy|Romance|   Comedy|  1|\n",
      "|      3|Grumpier Old Men ...|      Comedy|Romance|  Romance|  1|\n",
      "|      4|Waiting to Exhale...|Comedy|Drama|Romance|   Comedy|  1|\n",
      "|      4|Waiting to Exhale...|Comedy|Drama|Romance|    Drama|  1|\n",
      "|      4|Waiting to Exhale...|Comedy|Drama|Romance|  Romance|  1|\n",
      "|      5|Father of the Bri...|              Comedy|   Comedy|  1|\n",
      "|      6|         Heat (1995)|Action|Crime|Thri...|   Action|  1|\n",
      "|      6|         Heat (1995)|Action|Crime|Thri...|    Crime|  1|\n",
      "|      6|         Heat (1995)|Action|Crime|Thri...| Thriller|  1|\n",
      "|      7|      Sabrina (1995)|      Comedy|Romance|   Comedy|  1|\n",
      "|      7|      Sabrina (1995)|      Comedy|Romance|  Romance|  1|\n",
      "|      8| Tom and Huck (1995)|  Adventure|Children|Adventure|  1|\n",
      "+-------+--------------------+--------------------+---------+---+\n",
      "only showing top 20 rows\n",
      "\n",
      "root\n",
      " |-- movieId: integer (nullable = true)\n",
      " |-- title: string (nullable = true)\n",
      " |-- genres: string (nullable = true)\n",
      " |-- genre: string (nullable = true)\n",
      " |-- tag: integer (nullable = false)\n",
      "\n",
      "+---------------------+\n",
      "|count(DISTINCT genre)|\n",
      "+---------------------+\n",
      "|                   20|\n",
      "+---------------------+\n",
      "\n",
      "<class 'list'>\n"
     ]
    }
   ],
   "source": [
    "movie_t = movie.withColumn(\"genre\", explode(split(\"genres\",\"\\\\|\"))).withColumn(\"tag\", lit(1))\n",
    "movie_t.show()\n",
    "movie_t.printSchema()\n",
    "df2=movie_t.select(countDistinct(\"genre\"))\n",
    "df2.show()\n",
    "genreList = movie_t.agg(collect_set('genre')).collect()\n",
    "movieList = movie_t.agg(collect_set('movieId')).collect()\n",
    "\n",
    "print(type(movieList))"
   ]
  },
  {
   "cell_type": "markdown",
   "metadata": {},
   "source": [
    "# movie_t row to column"
   ]
  },
  {
   "cell_type": "code",
   "execution_count": 11,
   "metadata": {},
   "outputs": [
    {
     "name": "stdout",
     "output_type": "stream",
     "text": [
      "20\n"
     ]
    }
   ],
   "source": [
    "genre_list = ['Thriller', 'Action', 'Adventure', 'Crime', 'Comedy'\n",
    "              , 'Horror', 'Film-Noir', 'Animation', '(no genres listed)', 'Mystery'\n",
    "              , 'Documentary', 'Western', 'War', 'Fantasy', 'IMAX'\n",
    "              , 'Drama', 'Children', 'Romance', 'Musical', 'Sci-Fi']\n",
    "print(len(genre_list))"
   ]
  },
  {
   "cell_type": "code",
   "execution_count": 12,
   "metadata": {},
   "outputs": [
    {
     "name": "stdout",
     "output_type": "stream",
     "text": [
      "+-------+-------------------------------------+-------------------------------------------+---------+---+--------+\n",
      "|movieId|title                                |genres                                     |genre    |tag|Thriller|\n",
      "+-------+-------------------------------------+-------------------------------------------+---------+---+--------+\n",
      "|1      |Toy Story (1995)                     |Adventure|Animation|Children|Comedy|Fantasy|Adventure|1  |0       |\n",
      "|2      |Jumanji (1995)                       |Adventure|Children|Fantasy                 |Adventure|1  |0       |\n",
      "|3      |Grumpier Old Men (1995)              |Comedy|Romance                             |Comedy   |1  |0       |\n",
      "|4      |Waiting to Exhale (1995)             |Comedy|Drama|Romance                       |Comedy   |1  |0       |\n",
      "|5      |Father of the Bride Part II (1995)   |Comedy                                     |Comedy   |1  |0       |\n",
      "|6      |Heat (1995)                          |Action|Crime|Thriller                      |Action   |1  |0       |\n",
      "|7      |Sabrina (1995)                       |Comedy|Romance                             |Comedy   |1  |0       |\n",
      "|8      |Tom and Huck (1995)                  |Adventure|Children                         |Adventure|1  |0       |\n",
      "|9      |Sudden Death (1995)                  |Action                                     |Action   |1  |0       |\n",
      "|10     |GoldenEye (1995)                     |Action|Adventure|Thriller                  |Action   |1  |0       |\n",
      "|11     |American President, The (1995)       |Comedy|Drama|Romance                       |Comedy   |1  |0       |\n",
      "|12     |Dracula: Dead and Loving It (1995)   |Comedy|Horror                              |Comedy   |1  |0       |\n",
      "|13     |Balto (1995)                         |Adventure|Animation|Children               |Adventure|1  |0       |\n",
      "|14     |Nixon (1995)                         |Drama                                      |Drama    |1  |0       |\n",
      "|15     |Cutthroat Island (1995)              |Action|Adventure|Romance                   |Action   |1  |0       |\n",
      "|16     |Casino (1995)                        |Crime|Drama                                |Crime    |1  |0       |\n",
      "|17     |Sense and Sensibility (1995)         |Drama|Romance                              |Drama    |1  |0       |\n",
      "|18     |Four Rooms (1995)                    |Comedy                                     |Comedy   |1  |0       |\n",
      "|19     |Ace Ventura: When Nature Calls (1995)|Comedy                                     |Comedy   |1  |0       |\n",
      "|20     |Money Train (1995)                   |Action|Comedy|Crime|Drama|Thriller         |Action   |1  |0       |\n",
      "+-------+-------------------------------------+-------------------------------------------+---------+---+--------+\n",
      "only showing top 20 rows\n",
      "\n"
     ]
    }
   ],
   "source": [
    "movie_genre = movie_t.withColumn(\"Thriller\", expr(\"CASE WHEN genre = 'Thriller' THEN '1'\" + \n",
    "                                                  \"ELSE '0' END\")).dropDuplicates([\"movieId\"])\n",
    "movie_genre.show(truncate=False)"
   ]
  },
  {
   "cell_type": "code",
   "execution_count": 13,
   "metadata": {},
   "outputs": [
    {
     "name": "stdout",
     "output_type": "stream",
     "text": [
      "+-------+-------------------------------------+--------+------+---------+-----+------+------+---------+---------+------------------+-------+-----------+-------+---+-------+----+-----+--------+-------+-------+------+\n",
      "|movieId|title                                |Thriller|Action|Adventure|Crime|Comedy|Horror|Film-Noir|Animation|(no genres listed)|Mystery|Documentary|Western|War|Fantasy|IMAX|Drama|Children|Romance|Musical|Sci-Fi|\n",
      "+-------+-------------------------------------+--------+------+---------+-----+------+------+---------+---------+------------------+-------+-----------+-------+---+-------+----+-----+--------+-------+-------+------+\n",
      "|1      |Toy Story (1995)                     |0       |0     |1        |0    |0     |0     |0        |0        |0                 |0      |0          |0      |0  |0      |0   |0    |0       |0      |0      |0     |\n",
      "|2      |Jumanji (1995)                       |0       |0     |1        |0    |0     |0     |0        |0        |0                 |0      |0          |0      |0  |0      |0   |0    |0       |0      |0      |0     |\n",
      "|3      |Grumpier Old Men (1995)              |0       |0     |0        |0    |1     |0     |0        |0        |0                 |0      |0          |0      |0  |0      |0   |0    |0       |0      |0      |0     |\n",
      "|4      |Waiting to Exhale (1995)             |0       |0     |0        |0    |1     |0     |0        |0        |0                 |0      |0          |0      |0  |0      |0   |0    |0       |0      |0      |0     |\n",
      "|5      |Father of the Bride Part II (1995)   |0       |0     |0        |0    |1     |0     |0        |0        |0                 |0      |0          |0      |0  |0      |0   |0    |0       |0      |0      |0     |\n",
      "|6      |Heat (1995)                          |0       |1     |0        |0    |0     |0     |0        |0        |0                 |0      |0          |0      |0  |0      |0   |0    |0       |0      |0      |0     |\n",
      "|7      |Sabrina (1995)                       |0       |0     |0        |0    |1     |0     |0        |0        |0                 |0      |0          |0      |0  |0      |0   |0    |0       |0      |0      |0     |\n",
      "|8      |Tom and Huck (1995)                  |0       |0     |1        |0    |0     |0     |0        |0        |0                 |0      |0          |0      |0  |0      |0   |0    |0       |0      |0      |0     |\n",
      "|9      |Sudden Death (1995)                  |0       |1     |0        |0    |0     |0     |0        |0        |0                 |0      |0          |0      |0  |0      |0   |0    |0       |0      |0      |0     |\n",
      "|10     |GoldenEye (1995)                     |0       |1     |0        |0    |0     |0     |0        |0        |0                 |0      |0          |0      |0  |0      |0   |0    |0       |0      |0      |0     |\n",
      "|11     |American President, The (1995)       |0       |0     |0        |0    |1     |0     |0        |0        |0                 |0      |0          |0      |0  |0      |0   |0    |0       |0      |0      |0     |\n",
      "|12     |Dracula: Dead and Loving It (1995)   |0       |0     |0        |0    |1     |0     |0        |0        |0                 |0      |0          |0      |0  |0      |0   |0    |0       |0      |0      |0     |\n",
      "|13     |Balto (1995)                         |0       |0     |1        |0    |0     |0     |0        |0        |0                 |0      |0          |0      |0  |0      |0   |0    |0       |0      |0      |0     |\n",
      "|14     |Nixon (1995)                         |0       |0     |0        |0    |0     |0     |0        |0        |0                 |0      |0          |0      |0  |0      |0   |1    |0       |0      |0      |0     |\n",
      "|15     |Cutthroat Island (1995)              |0       |1     |0        |0    |0     |0     |0        |0        |0                 |0      |0          |0      |0  |0      |0   |0    |0       |0      |0      |0     |\n",
      "|16     |Casino (1995)                        |0       |0     |0        |1    |0     |0     |0        |0        |0                 |0      |0          |0      |0  |0      |0   |0    |0       |0      |0      |0     |\n",
      "|17     |Sense and Sensibility (1995)         |0       |0     |0        |0    |0     |0     |0        |0        |0                 |0      |0          |0      |0  |0      |0   |1    |0       |0      |0      |0     |\n",
      "|18     |Four Rooms (1995)                    |0       |0     |0        |0    |1     |0     |0        |0        |0                 |0      |0          |0      |0  |0      |0   |0    |0       |0      |0      |0     |\n",
      "|19     |Ace Ventura: When Nature Calls (1995)|0       |0     |0        |0    |1     |0     |0        |0        |0                 |0      |0          |0      |0  |0      |0   |0    |0       |0      |0      |0     |\n",
      "|20     |Money Train (1995)                   |0       |1     |0        |0    |0     |0     |0        |0        |0                 |0      |0          |0      |0  |0      |0   |0    |0       |0      |0      |0     |\n",
      "+-------+-------------------------------------+--------+------+---------+-----+------+------+---------+---------+------------------+-------+-----------+-------+---+-------+----+-----+--------+-------+-------+------+\n",
      "only showing top 20 rows\n",
      "\n"
     ]
    }
   ],
   "source": [
    "movie_genre = movie_t.withColumn(\"Thriller\", expr(\"CASE WHEN genre = 'Thriller' THEN '1'\" + \n",
    "                                                  \"ELSE '0' END\")).withColumn(\"Action\", expr(\"CASE WHEN genre = 'Action' THEN '1'\" + \n",
    "                                                  \"ELSE '0' END\")).withColumn(\"Adventure\", expr(\"CASE WHEN genre = 'Adventure' THEN '1'\" + \n",
    "                                                  \"ELSE '0' END\")).withColumn(\"Crime\", expr(\"CASE WHEN genre = 'Crime' THEN '1'\" + \n",
    "                                                  \"ELSE '0' END\")).withColumn(\"Comedy\", expr(\"CASE WHEN genre = 'Comedy' THEN '1'\" + \n",
    "                                                  \"ELSE '0' END\")).withColumn(\"Horror\", expr(\"CASE WHEN genre = 'Horror' THEN '1'\" + \n",
    "                                                  \"ELSE '0' END\")).withColumn(\"Film-Noir\", expr(\"CASE WHEN genre = 'Film-Noir' THEN '1'\" + \n",
    "                                                  \"ELSE '0' END\")).withColumn(\"Animation\", expr(\"CASE WHEN genre = 'Animation' THEN '1'\" + \n",
    "                                                  \"ELSE '0' END\")).withColumn(\"(no genres listed)\", expr(\"CASE WHEN genre = '(no genres listed)' THEN '1'\" + \n",
    "                                                  \"ELSE '0' END\")).withColumn(\"Mystery\", expr(\"CASE WHEN genre = 'Mystery' THEN '1'\" + \n",
    "                                                  \"ELSE '0' END\")).withColumn(\"Documentary\", expr(\"CASE WHEN genre = 'Documentary' THEN '1'\" + \n",
    "                                                  \"ELSE '0' END\")).withColumn(\"Western\", expr(\"CASE WHEN genre = 'Western' THEN '1'\" + \n",
    "                                                  \"ELSE '0' END\")).withColumn(\"War\", expr(\"CASE WHEN genre = 'War' THEN '1'\" + \n",
    "                                                  \"ELSE '0' END\")).withColumn(\"Fantasy\", expr(\"CASE WHEN genre = 'Fantasy' THEN '1'\" + \n",
    "                                                  \"ELSE '0' END\")).withColumn(\"IMAX\", expr(\"CASE WHEN genre = 'IMAX' THEN '1'\" + \n",
    "                                                  \"ELSE '0' END\")).withColumn(\"Drama\", expr(\"CASE WHEN genre = 'Drama' THEN '1'\" + \n",
    "                                                  \"ELSE '0' END\")).withColumn(\"Children\", expr(\"CASE WHEN genre = 'Children' THEN '1'\" + \n",
    "                                                  \"ELSE '0' END\")).withColumn(\"Romance\", expr(\"CASE WHEN genre = 'Romance' THEN '1'\" + \n",
    "                                                  \"ELSE '0' END\")).withColumn(\"Musical\", expr(\"CASE WHEN genre = 'Musical' THEN '1'\" + \n",
    "                                                  \"ELSE '0' END\")).withColumn(\"Sci-Fi\", expr(\"CASE WHEN genre = 'Sci-Fi' THEN '1'\" + \n",
    "                                                  \"ELSE '0' END\")).select(['movieId', 'title', 'Thriller', 'Action', 'Adventure', 'Crime', 'Comedy'\n",
    "              , 'Horror', 'Film-Noir', 'Animation', '(no genres listed)', 'Mystery'\n",
    "              , 'Documentary', 'Western', 'War', 'Fantasy', 'IMAX'\n",
    "              , 'Drama', 'Children', 'Romance', 'Musical', 'Sci-Fi']).dropDuplicates([\"movieId\"])\n",
    "                                                                             \n",
    "movie_genre.show(truncate=False)"
   ]
  },
  {
   "cell_type": "markdown",
   "metadata": {},
   "source": [
    "# JOIN movie vs. rating"
   ]
  },
  {
   "cell_type": "code",
   "execution_count": 14,
   "metadata": {},
   "outputs": [
    {
     "name": "stdout",
     "output_type": "stream",
     "text": [
      "+------+-------+------+-------------------+-------+--------------------+--------------------+---------+---+\n",
      "|userId|movieId|rating|          timestamp|movieId|               title|              genres|    genre|tag|\n",
      "+------+-------+------+-------------------+-------+--------------------+--------------------+---------+---+\n",
      "|     1|      2|   3.5|2005-04-02 23:53:47|      2|      Jumanji (1995)|Adventure|Childre...|  Fantasy|  1|\n",
      "|     1|      2|   3.5|2005-04-02 23:53:47|      2|      Jumanji (1995)|Adventure|Childre...| Children|  1|\n",
      "|     1|      2|   3.5|2005-04-02 23:53:47|      2|      Jumanji (1995)|Adventure|Childre...|Adventure|  1|\n",
      "|     1|     29|   3.5|2005-04-02 23:31:16|     29|City of Lost Chil...|Adventure|Drama|F...|   Sci-Fi|  1|\n",
      "|     1|     29|   3.5|2005-04-02 23:31:16|     29|City of Lost Chil...|Adventure|Drama|F...|  Mystery|  1|\n",
      "|     1|     29|   3.5|2005-04-02 23:31:16|     29|City of Lost Chil...|Adventure|Drama|F...|  Fantasy|  1|\n",
      "|     1|     29|   3.5|2005-04-02 23:31:16|     29|City of Lost Chil...|Adventure|Drama|F...|    Drama|  1|\n",
      "|     1|     29|   3.5|2005-04-02 23:31:16|     29|City of Lost Chil...|Adventure|Drama|F...|Adventure|  1|\n",
      "|     1|     32|   3.5|2005-04-02 23:33:39|     32|Twelve Monkeys (a...|Mystery|Sci-Fi|Th...| Thriller|  1|\n",
      "|     1|     32|   3.5|2005-04-02 23:33:39|     32|Twelve Monkeys (a...|Mystery|Sci-Fi|Th...|   Sci-Fi|  1|\n",
      "|     1|     32|   3.5|2005-04-02 23:33:39|     32|Twelve Monkeys (a...|Mystery|Sci-Fi|Th...|  Mystery|  1|\n",
      "|     1|     47|   3.5|2005-04-02 23:32:07|     47|Seven (a.k.a. Se7...|    Mystery|Thriller| Thriller|  1|\n",
      "|     1|     47|   3.5|2005-04-02 23:32:07|     47|Seven (a.k.a. Se7...|    Mystery|Thriller|  Mystery|  1|\n",
      "|     1|     50|   3.5|2005-04-02 23:29:40|     50|Usual Suspects, T...|Crime|Mystery|Thr...| Thriller|  1|\n",
      "|     1|     50|   3.5|2005-04-02 23:29:40|     50|Usual Suspects, T...|Crime|Mystery|Thr...|  Mystery|  1|\n",
      "|     1|     50|   3.5|2005-04-02 23:29:40|     50|Usual Suspects, T...|Crime|Mystery|Thr...|    Crime|  1|\n",
      "|     1|    112|   3.5|2004-09-10 03:09:00|    112|Rumble in the Bro...|Action|Adventure|...|    Crime|  1|\n",
      "|     1|    112|   3.5|2004-09-10 03:09:00|    112|Rumble in the Bro...|Action|Adventure|...|   Comedy|  1|\n",
      "|     1|    112|   3.5|2004-09-10 03:09:00|    112|Rumble in the Bro...|Action|Adventure|...|Adventure|  1|\n",
      "|     1|    112|   3.5|2004-09-10 03:09:00|    112|Rumble in the Bro...|Action|Adventure|...|   Action|  1|\n",
      "+------+-------+------+-------------------+-------+--------------------+--------------------+---------+---+\n",
      "only showing top 20 rows\n",
      "\n"
     ]
    }
   ],
   "source": [
    "joined_t = rating.join(movie_t, rating.movieId == movie_t.movieId, 'leftouter')\n",
    "joined_t.show()"
   ]
  },
  {
   "cell_type": "code",
   "execution_count": 15,
   "metadata": {},
   "outputs": [
    {
     "name": "stdout",
     "output_type": "stream",
     "text": [
      "+------+---------+------------------+\n",
      "|userId|    genre|sum(genre_ratings)|\n",
      "+------+---------+------------------+\n",
      "|     1|   Action|             246.0|\n",
      "|     1|Adventure|             276.5|\n",
      "|     1|Animation|              36.5|\n",
      "|     1| Children|              68.5|\n",
      "|     1|   Comedy|             153.0|\n",
      "|     1|    Crime|              80.0|\n",
      "|     1|    Drama|             162.0|\n",
      "|     1|  Fantasy|             261.5|\n",
      "|     1|   Horror|             168.5|\n",
      "|     1|     IMAX|               8.5|\n",
      "|     1|  Musical|              11.0|\n",
      "|     1|  Mystery|              65.0|\n",
      "|     1|  Romance|              43.5|\n",
      "|     1|   Sci-Fi|             148.5|\n",
      "|     1| Thriller|             158.0|\n",
      "|     1|      War|              33.0|\n",
      "|     1|  Western|              13.5|\n",
      "|     2|   Action|              88.0|\n",
      "|     2|Adventure|              82.0|\n",
      "|     2|Animation|               3.0|\n",
      "+------+---------+------------------+\n",
      "only showing top 20 rows\n",
      "\n",
      "root\n",
      " |-- userId: integer (nullable = true)\n",
      " |-- genre: string (nullable = true)\n",
      " |-- sum(genre_ratings): double (nullable = true)\n",
      "\n"
     ]
    }
   ],
   "source": [
    "user_genre = rating.join(movie_t, rating.movieId == movie_t.movieId, 'leftouter').withColumn('genre_ratings', (col(\"rating\") * col(\"tag\"))).groupBy([\"userId\", \"genre\"]).agg(f.sum(\"genre_ratings\")).sort(\"userId\", \"genre\")\n",
    "user_genre.show()\n",
    "user_genre.printSchema()"
   ]
  },
  {
   "cell_type": "code",
   "execution_count": 16,
   "metadata": {},
   "outputs": [
    {
     "name": "stdout",
     "output_type": "stream",
     "text": [
      "+------+---------+------------------+-----------+--------------------+\n",
      "|userId|    genre|sum(genre_ratings)|userR_total|      normed_ratings|\n",
      "+------+---------+------------------+-----------+--------------------+\n",
      "|     1|   Action|             246.0|     1933.5| 0.12723041117145073|\n",
      "|     1|Adventure|             276.5|     1933.5|  0.1430049133695371|\n",
      "|     1|Animation|              36.5|     1933.5|0.018877682958365657|\n",
      "|     1| Children|              68.5|     1933.5| 0.03542798034652185|\n",
      "|     1|   Comedy|             153.0|     1933.5|  0.0791311093871218|\n",
      "|     1|    Crime|              80.0|     1933.5| 0.04137574347039048|\n",
      "|     1|    Drama|             162.0|     1933.5| 0.08378588052754073|\n",
      "|     1|  Fantasy|             261.5|     1933.5| 0.13524696146883888|\n",
      "|     1|   Horror|             168.5|     1933.5| 0.08714765968450995|\n",
      "|     1|     IMAX|               8.5|     1933.5|0.004396172743728989|\n",
      "|     1|  Musical|              11.0|     1933.5|0.005689164727178691|\n",
      "|     1|  Mystery|              65.0|     1933.5| 0.03361779156969227|\n",
      "|     1|  Romance|              43.5|     1933.5|0.022498060512024826|\n",
      "|     1|   Sci-Fi|             148.5|     1933.5| 0.07680372381691233|\n",
      "|     1| Thriller|             158.0|     1933.5|  0.0817170933540212|\n",
      "|     1|      War|              33.0|     1933.5|0.017067494181536073|\n",
      "|     1|  Western|              13.5|     1933.5|0.006982156710628...|\n",
      "|     6|   Action|              25.0|      234.0| 0.10683760683760683|\n",
      "|     6|Adventure|              30.0|      234.0|  0.1282051282051282|\n",
      "|     6|Animation|               5.0|      234.0|0.021367521367521368|\n",
      "+------+---------+------------------+-----------+--------------------+\n",
      "only showing top 20 rows\n",
      "\n",
      "root\n",
      " |-- userId: integer (nullable = true)\n",
      " |-- genre: string (nullable = true)\n",
      " |-- sum(genre_ratings): double (nullable = true)\n",
      " |-- userR_total: double (nullable = true)\n",
      " |-- normed_ratings: double (nullable = true)\n",
      "\n"
     ]
    }
   ],
   "source": [
    "windowval = (Window.partitionBy('userId'))\n",
    "user_profile = user_genre.withColumn('userR_total', f.sum('sum(genre_ratings)').over(windowval)).withColumn('normed_ratings',(col(\"sum(genre_ratings)\") / col(\"userR_total\")))\n",
    "user_profile.show()\n",
    "user_profile.printSchema()"
   ]
  },
  {
   "cell_type": "markdown",
   "metadata": {},
   "source": [
    "# User Nomarlized Ratings - convert row to column"
   ]
  },
  {
   "cell_type": "code",
   "execution_count": 17,
   "metadata": {},
   "outputs": [
    {
     "name": "stdout",
     "output_type": "stream",
     "text": [
      "+------+---------+------------------+-----------+--------------------+------------------+\n",
      "|userId|    genre|sum(genre_ratings)|userR_total|      normed_ratings|          Thriller|\n",
      "+------+---------+------------------+-----------+--------------------+------------------+\n",
      "|     1|   Action|             246.0|     1933.5| 0.12723041117145073|               0.0|\n",
      "|     1|Adventure|             276.5|     1933.5|  0.1430049133695371|               0.0|\n",
      "|     1|Animation|              36.5|     1933.5|0.018877682958365657|               0.0|\n",
      "|     1| Children|              68.5|     1933.5| 0.03542798034652185|               0.0|\n",
      "|     1|   Comedy|             153.0|     1933.5|  0.0791311093871218|               0.0|\n",
      "|     1|    Crime|              80.0|     1933.5| 0.04137574347039048|               0.0|\n",
      "|     1|    Drama|             162.0|     1933.5| 0.08378588052754073|               0.0|\n",
      "|     1|  Fantasy|             261.5|     1933.5| 0.13524696146883888|               0.0|\n",
      "|     1|   Horror|             168.5|     1933.5| 0.08714765968450995|               0.0|\n",
      "|     1|     IMAX|               8.5|     1933.5|0.004396172743728989|               0.0|\n",
      "|     1|  Musical|              11.0|     1933.5|0.005689164727178691|               0.0|\n",
      "|     1|  Mystery|              65.0|     1933.5| 0.03361779156969227|               0.0|\n",
      "|     1|  Romance|              43.5|     1933.5|0.022498060512024826|               0.0|\n",
      "|     1|   Sci-Fi|             148.5|     1933.5| 0.07680372381691233|               0.0|\n",
      "|     1| Thriller|             158.0|     1933.5|  0.0817170933540212|0.0817170933540212|\n",
      "|     1|      War|              33.0|     1933.5|0.017067494181536073|               0.0|\n",
      "|     1|  Western|              13.5|     1933.5|0.006982156710628...|               0.0|\n",
      "|     6|   Action|              25.0|      234.0| 0.10683760683760683|               0.0|\n",
      "|     6|Adventure|              30.0|      234.0|  0.1282051282051282|               0.0|\n",
      "|     6|Animation|               5.0|      234.0|0.021367521367521368|               0.0|\n",
      "+------+---------+------------------+-----------+--------------------+------------------+\n",
      "only showing top 20 rows\n",
      "\n"
     ]
    }
   ],
   "source": [
    "user_profileM = user_profile.withColumn(\"Thriller\", when(user_profile.genre == 'Thriller', user_profile.normed_ratings).otherwise(0))\n",
    "user_profileM.show()"
   ]
  },
  {
   "cell_type": "code",
   "execution_count": 18,
   "metadata": {
    "scrolled": true
   },
   "outputs": [
    {
     "name": "stdout",
     "output_type": "stream",
     "text": [
      "+------+--------+\n",
      "|userId|Thriller|\n",
      "+------+--------+\n",
      "|     1|     0.0|\n",
      "|     6|     0.0|\n",
      "|    12|     0.0|\n",
      "|    13|     0.0|\n",
      "|    16|     0.0|\n",
      "|    22|     0.0|\n",
      "|    26|     0.0|\n",
      "|    27|     0.0|\n",
      "|    28|     0.0|\n",
      "|    31|     0.0|\n",
      "|    34|     0.0|\n",
      "|    44|     0.0|\n",
      "|    47|     0.0|\n",
      "|    52|     0.0|\n",
      "|    53|     0.0|\n",
      "|    65|     0.0|\n",
      "|    76|     0.0|\n",
      "|    78|     0.0|\n",
      "|    81|     0.0|\n",
      "|    85|     0.0|\n",
      "+------+--------+\n",
      "only showing top 20 rows\n",
      "\n"
     ]
    }
   ],
   "source": [
    "user_profileM = user_profile.withColumn(\"Thriller\", when(user_profile.genre == 'Thriller'\n",
    ", user_profile.normed_ratings).otherwise(0)).withColumn(\"Action\"\n",
    "                                                        , when(user_profile.genre == 'Action', user_profile.normed_ratings).otherwise(0)).withColumn(\"Adventure\"\n",
    "                                                        , when(user_profile.genre == 'Adventure', user_profile.normed_ratings).otherwise(0)).withColumn(\"Crime\"\n",
    "                                                        , when(user_profile.genre == 'Crime', user_profile.normed_ratings).otherwise(0)).withColumn(\"Comedy\"\n",
    "                                                        , when(user_profile.genre == 'Comedy', user_profile.normed_ratings).otherwise(0)).withColumn(\"Action\"\n",
    "                                                        , when(user_profile.genre == 'Action', user_profile.normed_ratings).otherwise(0)).withColumn(\"Horror\"\n",
    "                                                        , when(user_profile.genre == 'Horror', user_profile.normed_ratings).otherwise(0)).withColumn(\"Film-Noir\"\n",
    "                                                        , when(user_profile.genre == 'Film-Noir', user_profile.normed_ratings).otherwise(0)).withColumn(\"Animation\"\n",
    "                                                        , when(user_profile.genre == 'Animation', user_profile.normed_ratings).otherwise(0)).withColumn(\"(no genres listed)\"\n",
    "                                                        , when(user_profile.genre == '(no genres listed)', user_profile.normed_ratings).otherwise(0)).withColumn(\"Mystery\"\n",
    "                                                        , when(user_profile.genre == 'Mystery', user_profile.normed_ratings).otherwise(0)).withColumn(\"Documentary\"\n",
    "                                                        , when(user_profile.genre == 'Documentary', user_profile.normed_ratings).otherwise(0)).withColumn(\"Western\"\n",
    "                                                        , when(user_profile.genre == 'Western', user_profile.normed_ratings).otherwise(0)).withColumn(\"War\"\n",
    "                                                        , when(user_profile.genre == 'War', user_profile.normed_ratings).otherwise(0)).withColumn(\"Fantasy\"\n",
    "                                                        , when(user_profile.genre == 'Fantasy', user_profile.normed_ratings).otherwise(0)).withColumn(\"IMAX\"\n",
    "                                                        , when(user_profile.genre == 'IMAX', user_profile.normed_ratings).otherwise(0)).withColumn(\"Drama\"\n",
    "                                                        , when(user_profile.genre == 'Drama', user_profile.normed_ratings).otherwise(0)).withColumn(\"Children\"\n",
    "                                                        , when(user_profile.genre == 'Children', user_profile.normed_ratings).otherwise(0)).withColumn(\"Romance\"\n",
    "                                                        , when(user_profile.genre == 'Romance', user_profile.normed_ratings).otherwise(0)).withColumn(\"Musical\"\n",
    "                                                        , when(user_profile.genre == 'Musical', user_profile.normed_ratings).otherwise(0)).withColumn(\"Sci-Fi\"\n",
    "                                                        , when(user_profile.genre == 'Sci-Fi', user_profile.normed_ratings).otherwise(0)).dropDuplicates([\"userId\"])\n",
    "user_profileM.select([\"userId\",\"Thriller\"]).show()"
   ]
  },
  {
   "cell_type": "code",
   "execution_count": 19,
   "metadata": {},
   "outputs": [],
   "source": [
    "cols = (\"genre\",\"sum(genre_ratings)\",\"userR_total\",\"normed_ratings\")\n",
    "user_profileM = user_profileM.drop(*cols)"
   ]
  },
  {
   "cell_type": "code",
   "execution_count": 20,
   "metadata": {},
   "outputs": [
    {
     "name": "stdout",
     "output_type": "stream",
     "text": [
      "+------+--------+--------------------+---------+-----+------+------+---------+---------+------------------+-------+-----------+-------+---+-------+----+-----+--------+-------+-------+------+\n",
      "|userId|Thriller|Action              |Adventure|Crime|Comedy|Horror|Film-Noir|Animation|(no genres listed)|Mystery|Documentary|Western|War|Fantasy|IMAX|Drama|Children|Romance|Musical|Sci-Fi|\n",
      "+------+--------+--------------------+---------+-----+------+------+---------+---------+------------------+-------+-----------+-------+---+-------+----+-----+--------+-------+-------+------+\n",
      "|1     |0.0     |0.12723041117145073 |0.0      |0.0  |0.0   |0.0   |0.0      |0.0      |0.0               |0.0    |0.0        |0.0    |0.0|0.0    |0.0 |0.0  |0.0     |0.0    |0.0    |0.0   |\n",
      "|6     |0.0     |0.10683760683760683 |0.0      |0.0  |0.0   |0.0   |0.0      |0.0      |0.0               |0.0    |0.0        |0.0    |0.0|0.0    |0.0 |0.0  |0.0     |0.0    |0.0    |0.0   |\n",
      "|12    |0.0     |0.14285714285714285 |0.0      |0.0  |0.0   |0.0   |0.0      |0.0      |0.0               |0.0    |0.0        |0.0    |0.0|0.0    |0.0 |0.0  |0.0     |0.0    |0.0    |0.0   |\n",
      "|13    |0.0     |0.1337386018237082  |0.0      |0.0  |0.0   |0.0   |0.0      |0.0      |0.0               |0.0    |0.0        |0.0    |0.0|0.0    |0.0 |0.0  |0.0     |0.0    |0.0    |0.0   |\n",
      "|16    |0.0     |0.0745697896749522  |0.0      |0.0  |0.0   |0.0   |0.0      |0.0      |0.0               |0.0    |0.0        |0.0    |0.0|0.0    |0.0 |0.0  |0.0     |0.0    |0.0    |0.0   |\n",
      "|22    |0.0     |0.22271386430678466 |0.0      |0.0  |0.0   |0.0   |0.0      |0.0      |0.0               |0.0    |0.0        |0.0    |0.0|0.0    |0.0 |0.0  |0.0     |0.0    |0.0    |0.0   |\n",
      "|26    |0.0     |0.10204081632653061 |0.0      |0.0  |0.0   |0.0   |0.0      |0.0      |0.0               |0.0    |0.0        |0.0    |0.0|0.0    |0.0 |0.0  |0.0     |0.0    |0.0    |0.0   |\n",
      "|27    |0.0     |0.10866574965612105 |0.0      |0.0  |0.0   |0.0   |0.0      |0.0      |0.0               |0.0    |0.0        |0.0    |0.0|0.0    |0.0 |0.0  |0.0     |0.0    |0.0    |0.0   |\n",
      "|28    |0.0     |0.08203125          |0.0      |0.0  |0.0   |0.0   |0.0      |0.0      |0.0               |0.0    |0.0        |0.0    |0.0|0.0    |0.0 |0.0  |0.0     |0.0    |0.0    |0.0   |\n",
      "|31    |0.0     |0.1574829931972789  |0.0      |0.0  |0.0   |0.0   |0.0      |0.0      |0.0               |0.0    |0.0        |0.0    |0.0|0.0    |0.0 |0.0  |0.0     |0.0    |0.0    |0.0   |\n",
      "|34    |0.0     |0.13294232649071358 |0.0      |0.0  |0.0   |0.0   |0.0      |0.0      |0.0               |0.0    |0.0        |0.0    |0.0|0.0    |0.0 |0.0  |0.0     |0.0    |0.0    |0.0   |\n",
      "|44    |0.0     |0.11977715877437325 |0.0      |0.0  |0.0   |0.0   |0.0      |0.0      |0.0               |0.0    |0.0        |0.0    |0.0|0.0    |0.0 |0.0  |0.0     |0.0    |0.0    |0.0   |\n",
      "|47    |0.0     |0.08879781420765027 |0.0      |0.0  |0.0   |0.0   |0.0      |0.0      |0.0               |0.0    |0.0        |0.0    |0.0|0.0    |0.0 |0.0  |0.0     |0.0    |0.0    |0.0   |\n",
      "|52    |0.0     |0.08411214953271028 |0.0      |0.0  |0.0   |0.0   |0.0      |0.0      |0.0               |0.0    |0.0        |0.0    |0.0|0.0    |0.0 |0.0  |0.0     |0.0    |0.0    |0.0   |\n",
      "|53    |0.0     |0.026285046728971962|0.0      |0.0  |0.0   |0.0   |0.0      |0.0      |0.0               |0.0    |0.0        |0.0    |0.0|0.0    |0.0 |0.0  |0.0     |0.0    |0.0    |0.0   |\n",
      "|65    |0.0     |0.06647398843930635 |0.0      |0.0  |0.0   |0.0   |0.0      |0.0      |0.0               |0.0    |0.0        |0.0    |0.0|0.0    |0.0 |0.0  |0.0     |0.0    |0.0    |0.0   |\n",
      "|76    |0.0     |0.18793503480278423 |0.0      |0.0  |0.0   |0.0   |0.0      |0.0      |0.0               |0.0    |0.0        |0.0    |0.0|0.0    |0.0 |0.0  |0.0     |0.0    |0.0    |0.0   |\n",
      "|78    |0.0     |0.19585987261146498 |0.0      |0.0  |0.0   |0.0   |0.0      |0.0      |0.0               |0.0    |0.0        |0.0    |0.0|0.0    |0.0 |0.0  |0.0     |0.0    |0.0    |0.0   |\n",
      "|81    |0.0     |0.1832797427652733  |0.0      |0.0  |0.0   |0.0   |0.0      |0.0      |0.0               |0.0    |0.0        |0.0    |0.0|0.0    |0.0 |0.0  |0.0     |0.0    |0.0    |0.0   |\n",
      "|85    |0.0     |0.051605504587155966|0.0      |0.0  |0.0   |0.0   |0.0      |0.0      |0.0               |0.0    |0.0        |0.0    |0.0|0.0    |0.0 |0.0  |0.0     |0.0    |0.0    |0.0   |\n",
      "+------+--------+--------------------+---------+-----+------+------+---------+---------+------------------+-------+-----------+-------+---+-------+----+-----+--------+-------+-------+------+\n",
      "only showing top 20 rows\n",
      "\n"
     ]
    }
   ],
   "source": [
    "user_profileM.show(truncate=False)"
   ]
  },
  {
   "cell_type": "markdown",
   "metadata": {},
   "source": [
    "# take the userId=1 as an example "
   ]
  },
  {
   "cell_type": "code",
   "execution_count": 21,
   "metadata": {},
   "outputs": [
    {
     "name": "stdout",
     "output_type": "stream",
     "text": [
      "+------+--------+-------------------+---------+-----+------+------+---------+---------+------------------+-------+-----------+-------+---+-------+----+-----+--------+-------+-------+------+\n",
      "|userId|Thriller|Action             |Adventure|Crime|Comedy|Horror|Film-Noir|Animation|(no genres listed)|Mystery|Documentary|Western|War|Fantasy|IMAX|Drama|Children|Romance|Musical|Sci-Fi|\n",
      "+------+--------+-------------------+---------+-----+------+------+---------+---------+------------------+-------+-----------+-------+---+-------+----+-----+--------+-------+-------+------+\n",
      "|1     |0.0     |0.12723041117145073|0.0      |0.0  |0.0   |0.0   |0.0      |0.0      |0.0               |0.0    |0.0        |0.0    |0.0|0.0    |0.0 |0.0  |0.0     |0.0    |0.0    |0.0   |\n",
      "+------+--------+-------------------+---------+-----+------+------+---------+---------+------------------+-------+-----------+-------+---+-------+----+-----+--------+-------+-------+------+\n",
      "\n",
      "+------+-------+\n",
      "|userId|movieId|\n",
      "+------+-------+\n",
      "|1     |2      |\n",
      "|1     |29     |\n",
      "|1     |32     |\n",
      "|1     |47     |\n",
      "|1     |50     |\n",
      "|1     |112    |\n",
      "|1     |151    |\n",
      "|1     |223    |\n",
      "|1     |253    |\n",
      "|1     |260    |\n",
      "|1     |293    |\n",
      "|1     |296    |\n",
      "|1     |318    |\n",
      "|1     |337    |\n",
      "|1     |367    |\n",
      "|1     |541    |\n",
      "|1     |589    |\n",
      "|1     |593    |\n",
      "|1     |653    |\n",
      "|1     |919    |\n",
      "+------+-------+\n",
      "only showing top 20 rows\n",
      "\n"
     ]
    }
   ],
   "source": [
    "#Method I Matrix\n",
    "up_1 = user_profileM.filter(user_profileM.userId == \"1\")\n",
    "up_1.show(truncate=False)\n",
    "um_1 = rating.filter(rating.userId == \"1\").select([\"userId\",\"movieId\"])\n",
    "um_1.show(truncate=False)"
   ]
  },
  {
   "cell_type": "code",
   "execution_count": null,
   "metadata": {},
   "outputs": [],
   "source": [
    "# #Method II Pure Table\n",
    "# up_114371 = user_profile.filter(user_profile.userId == \"114371\").select([\"userId\",\"genre\",\"normed_ratings\"])\n",
    "# up_114371.show(truncate=False)\n",
    "# um_114371 = rating.filter(rating.userId == \"114371\").select([\"userId\",\"movieId\"])\n",
    "# um_114371.show(truncate=False)"
   ]
  },
  {
   "cell_type": "markdown",
   "metadata": {},
   "source": [
    "# Movies that this specific user did not watch"
   ]
  },
  {
   "cell_type": "code",
   "execution_count": 22,
   "metadata": {},
   "outputs": [
    {
     "name": "stdout",
     "output_type": "stream",
     "text": [
      "+-------+-------------------------------------+--------+------+---------+-----+------+------+---------+---------+------------------+-------+-----------+-------+---+-------+----+-----+--------+-------+-------+------+\n",
      "|movieId|title                                |Thriller|Action|Adventure|Crime|Comedy|Horror|Film-Noir|Animation|(no genres listed)|Mystery|Documentary|Western|War|Fantasy|IMAX|Drama|Children|Romance|Musical|Sci-Fi|\n",
      "+-------+-------------------------------------+--------+------+---------+-----+------+------+---------+---------+------------------+-------+-----------+-------+---+-------+----+-----+--------+-------+-------+------+\n",
      "|1      |Toy Story (1995)                     |0       |0     |1        |0    |0     |0     |0        |0        |0                 |0      |0          |0      |0  |0      |0   |0    |0       |0      |0      |0     |\n",
      "|3      |Grumpier Old Men (1995)              |0       |0     |0        |0    |1     |0     |0        |0        |0                 |0      |0          |0      |0  |0      |0   |0    |0       |0      |0      |0     |\n",
      "|4      |Waiting to Exhale (1995)             |0       |0     |0        |0    |1     |0     |0        |0        |0                 |0      |0          |0      |0  |0      |0   |0    |0       |0      |0      |0     |\n",
      "|5      |Father of the Bride Part II (1995)   |0       |0     |0        |0    |1     |0     |0        |0        |0                 |0      |0          |0      |0  |0      |0   |0    |0       |0      |0      |0     |\n",
      "|6      |Heat (1995)                          |0       |1     |0        |0    |0     |0     |0        |0        |0                 |0      |0          |0      |0  |0      |0   |0    |0       |0      |0      |0     |\n",
      "|7      |Sabrina (1995)                       |0       |0     |0        |0    |1     |0     |0        |0        |0                 |0      |0          |0      |0  |0      |0   |0    |0       |0      |0      |0     |\n",
      "|8      |Tom and Huck (1995)                  |0       |0     |1        |0    |0     |0     |0        |0        |0                 |0      |0          |0      |0  |0      |0   |0    |0       |0      |0      |0     |\n",
      "|9      |Sudden Death (1995)                  |0       |1     |0        |0    |0     |0     |0        |0        |0                 |0      |0          |0      |0  |0      |0   |0    |0       |0      |0      |0     |\n",
      "|10     |GoldenEye (1995)                     |0       |1     |0        |0    |0     |0     |0        |0        |0                 |0      |0          |0      |0  |0      |0   |0    |0       |0      |0      |0     |\n",
      "|11     |American President, The (1995)       |0       |0     |0        |0    |1     |0     |0        |0        |0                 |0      |0          |0      |0  |0      |0   |0    |0       |0      |0      |0     |\n",
      "|12     |Dracula: Dead and Loving It (1995)   |0       |0     |0        |0    |1     |0     |0        |0        |0                 |0      |0          |0      |0  |0      |0   |0    |0       |0      |0      |0     |\n",
      "|13     |Balto (1995)                         |0       |0     |1        |0    |0     |0     |0        |0        |0                 |0      |0          |0      |0  |0      |0   |0    |0       |0      |0      |0     |\n",
      "|14     |Nixon (1995)                         |0       |0     |0        |0    |0     |0     |0        |0        |0                 |0      |0          |0      |0  |0      |0   |1    |0       |0      |0      |0     |\n",
      "|15     |Cutthroat Island (1995)              |0       |1     |0        |0    |0     |0     |0        |0        |0                 |0      |0          |0      |0  |0      |0   |0    |0       |0      |0      |0     |\n",
      "|16     |Casino (1995)                        |0       |0     |0        |1    |0     |0     |0        |0        |0                 |0      |0          |0      |0  |0      |0   |0    |0       |0      |0      |0     |\n",
      "|17     |Sense and Sensibility (1995)         |0       |0     |0        |0    |0     |0     |0        |0        |0                 |0      |0          |0      |0  |0      |0   |1    |0       |0      |0      |0     |\n",
      "|18     |Four Rooms (1995)                    |0       |0     |0        |0    |1     |0     |0        |0        |0                 |0      |0          |0      |0  |0      |0   |0    |0       |0      |0      |0     |\n",
      "|19     |Ace Ventura: When Nature Calls (1995)|0       |0     |0        |0    |1     |0     |0        |0        |0                 |0      |0          |0      |0  |0      |0   |0    |0       |0      |0      |0     |\n",
      "|20     |Money Train (1995)                   |0       |1     |0        |0    |0     |0     |0        |0        |0                 |0      |0          |0      |0  |0      |0   |0    |0       |0      |0      |0     |\n",
      "|21     |Get Shorty (1995)                    |0       |0     |0        |0    |1     |0     |0        |0        |0                 |0      |0          |0      |0  |0      |0   |0    |0       |0      |0      |0     |\n",
      "+-------+-------------------------------------+--------+------+---------+-----+------+------+---------+---------+------------------+-------+-----------+-------+---+-------+----+-----+--------+-------+-------+------+\n",
      "only showing top 20 rows\n",
      "\n"
     ]
    }
   ],
   "source": [
    "# Method I Matrix\n",
    "umNM_1 = movie_genre.join(um_1, movie_genre.movieId == um_1.movieId, 'anti')\n",
    "# umNM_1 = movie_genre.join(um_1, movie_genre.movieId == um_1.movieId, 'anti').drop(\"title\")\n",
    "umNM_1.show(truncate=False)"
   ]
  },
  {
   "cell_type": "code",
   "execution_count": null,
   "metadata": {},
   "outputs": [],
   "source": [
    "# # Method II Simple table\n",
    "# umNM_114371 = movie_genre.join(um_114371, movie_genre.movieId == um_114371.movieId, 'anti')\n",
    "# upM_114371 = user_profileM.filter(user_profile.userId == \"114371\")\n",
    "# upM_114371.select([\"userId\", \"Thriller\"]).show()"
   ]
  },
  {
   "cell_type": "markdown",
   "metadata": {},
   "source": [
    "# Calculate Potential Ranking Score for Movies the user did not watch"
   ]
  },
  {
   "cell_type": "code",
   "execution_count": 23,
   "metadata": {},
   "outputs": [
    {
     "name": "stdout",
     "output_type": "stream",
     "text": [
      "27103 22\n",
      "1 21\n",
      "['movieId', 'title', 'Thriller', 'Action', 'Adventure', 'Crime', 'Comedy', 'Horror', 'Film-Noir', 'Animation', '(no genres listed)', 'Mystery', 'Documentary', 'Western', 'War', 'Fantasy', 'IMAX', 'Drama', 'Children', 'Romance', 'Musical', 'Sci-Fi']\n",
      "['userId', 'Thriller', 'Action', 'Adventure', 'Crime', 'Comedy', 'Horror', 'Film-Noir', 'Animation', '(no genres listed)', 'Mystery', 'Documentary', 'Western', 'War', 'Fantasy', 'IMAX', 'Drama', 'Children', 'Romance', 'Musical', 'Sci-Fi']\n"
     ]
    }
   ],
   "source": [
    "# print((df.count(), len(df.columns)))\n",
    "print(umNM_1.count(),len(umNM_1.columns))\n",
    "print(up_1.count(),len(up_1.columns))\n",
    "print(umNM_1.columns)\n",
    "print(up_1.columns)"
   ]
  },
  {
   "cell_type": "code",
   "execution_count": 24,
   "metadata": {},
   "outputs": [
    {
     "name": "stdout",
     "output_type": "stream",
     "text": [
      "(20, 1)\n",
      "(27103, 20)\n",
      "[[0.        ]\n",
      " [0.12723041]\n",
      " [0.        ]\n",
      " [0.        ]\n",
      " [0.        ]\n",
      " [0.        ]\n",
      " [0.        ]\n",
      " [0.        ]\n",
      " [0.        ]\n",
      " [0.        ]\n",
      " [0.        ]\n",
      " [0.        ]\n",
      " [0.        ]\n",
      " [0.        ]\n",
      " [0.        ]\n",
      " [0.        ]\n",
      " [0.        ]\n",
      " [0.        ]\n",
      " [0.        ]\n",
      " [0.        ]]\n",
      "[[0. 0. 1. ... 0. 0. 0.]\n",
      " [0. 0. 0. ... 0. 0. 0.]\n",
      " [0. 0. 0. ... 0. 0. 0.]\n",
      " ...\n",
      " [0. 0. 1. ... 0. 0. 0.]\n",
      " [0. 0. 0. ... 0. 0. 0.]\n",
      " [0. 0. 1. ... 0. 0. 0.]]\n"
     ]
    }
   ],
   "source": [
    "# user profile\n",
    "uv_1 = np.array(up_1.select('Thriller', 'Action', 'Adventure', 'Crime', 'Comedy'\n",
    "                          , 'Horror', 'Film-Noir', 'Animation', '(no genres listed)', 'Mystery'\n",
    "                          , 'Documentary', 'Western', 'War', 'Fantasy', 'IMAX'\n",
    "                          , 'Drama', 'Children', 'Romance', 'Musical', 'Sci-Fi').collect()).T\n",
    "uv_1 = np.asarray(uv_1, dtype='float64')\n",
    "# candidate movies\n",
    "cm_1 = np.array(umNM_1.select('Thriller', 'Action', 'Adventure', 'Crime', 'Comedy'\n",
    "                          , 'Horror', 'Film-Noir', 'Animation', '(no genres listed)', 'Mystery'\n",
    "                          , 'Documentary', 'Western', 'War', 'Fantasy', 'IMAX'\n",
    "                          , 'Drama', 'Children', 'Romance', 'Musical', 'Sci-Fi').collect())\n",
    "\n",
    "cm_1 = np.asarray(cm_1, dtype='float64')\n",
    "print(uv_1.shape)\n",
    "print(cm_1.shape)\n",
    "print(uv_1)\n",
    "print(cm_1)"
   ]
  },
  {
   "cell_type": "code",
   "execution_count": 25,
   "metadata": {},
   "outputs": [
    {
     "data": {
      "text/plain": [
       "(27103, 1)"
      ]
     },
     "execution_count": 25,
     "metadata": {},
     "output_type": "execute_result"
    }
   ],
   "source": [
    "cmr_1 = np.matmul(cm_1,uv_1)\n",
    "cmr_1.shape"
   ]
  },
  {
   "cell_type": "code",
   "execution_count": 26,
   "metadata": {},
   "outputs": [
    {
     "data": {
      "text/plain": [
       "array([[0.],\n",
       "       [0.],\n",
       "       [0.],\n",
       "       ...,\n",
       "       [0.],\n",
       "       [0.],\n",
       "       [0.]])"
      ]
     },
     "execution_count": 26,
     "metadata": {},
     "output_type": "execute_result"
    }
   ],
   "source": [
    "cmr_1"
   ]
  },
  {
   "cell_type": "code",
   "execution_count": 27,
   "metadata": {},
   "outputs": [
    {
     "name": "stderr",
     "output_type": "stream",
     "text": [
      "/usr/local/opt/apache-spark/libexec/python/pyspark/sql/pandas/conversion.py:329: UserWarning: createDataFrame attempted Arrow optimization because 'spark.sql.execution.arrow.pyspark.enabled' is set to true; however, failed by the reason below:\n",
      "  PyArrow >= 1.0.0 must be installed; however, it was not found.\n",
      "Attempting non-optimization as 'spark.sql.execution.arrow.pyspark.fallback.enabled' is set to true.\n",
      "  warnings.warn(msg)\n"
     ]
    },
    {
     "name": "stdout",
     "output_type": "stream",
     "text": [
      "+-------+-------+\n",
      "|ratings|row_idx|\n",
      "+-------+-------+\n",
      "|      0|      1|\n",
      "|      0|      2|\n",
      "|      0|      3|\n",
      "|      0|      4|\n",
      "|      0|      5|\n",
      "|      0|      6|\n",
      "|      0|      7|\n",
      "|      0|      8|\n",
      "|      0|      9|\n",
      "|      0|     10|\n",
      "|      0|     11|\n",
      "|      0|     12|\n",
      "|      0|     13|\n",
      "|      0|     14|\n",
      "|      0|     15|\n",
      "|      0|     16|\n",
      "|      0|     17|\n",
      "|      0|     18|\n",
      "|      0|     19|\n",
      "|      0|     20|\n",
      "+-------+-------+\n",
      "only showing top 20 rows\n",
      "\n",
      "27103 2\n"
     ]
    }
   ],
   "source": [
    "df_cmr_1 = pd.DataFrame(cmr_1)\n",
    "spark.conf.set(\"spark.sql.execution.arrow.enabled\",\"true\")\n",
    "dfsk_cmr_1 = spark.createDataFrame(df_cmr_1).selectExpr(\"0 as ratings\").withColumn(\"row_idx\",row_number().over(Window.orderBy(monotonically_increasing_id())))\n",
    "dfsk_cmr_1.show()\n",
    "print(dfsk_cmr_1.count(),len(dfsk_cmr_1.columns))"
   ]
  },
  {
   "cell_type": "code",
   "execution_count": 28,
   "metadata": {},
   "outputs": [
    {
     "name": "stdout",
     "output_type": "stream",
     "text": [
      "+-------+\n",
      "|movieId|\n",
      "+-------+\n",
      "|    148|\n",
      "|    463|\n",
      "|    471|\n",
      "|    496|\n",
      "|    833|\n",
      "|   1088|\n",
      "|   1238|\n",
      "|   1342|\n",
      "|   1580|\n",
      "|   1591|\n",
      "|   1645|\n",
      "|   1829|\n",
      "|   1959|\n",
      "|   2122|\n",
      "|   2142|\n",
      "|   2366|\n",
      "|   2659|\n",
      "|   2866|\n",
      "|   3175|\n",
      "|   3749|\n",
      "+-------+\n",
      "only showing top 20 rows\n",
      "\n",
      "27103 1\n"
     ]
    }
   ],
   "source": [
    "movieNList_1 = umNM_1.select(\"movieId\")\n",
    "# print(type(movieNList_1))\n",
    "movieNList_1.show()\n",
    "print(movieNList_1.count(),len(movieNList_1.columns))"
   ]
  },
  {
   "cell_type": "code",
   "execution_count": 29,
   "metadata": {},
   "outputs": [
    {
     "name": "stdout",
     "output_type": "stream",
     "text": [
      "+-------+-------+\n",
      "|movieId|row_idx|\n",
      "+-------+-------+\n",
      "|    148|      1|\n",
      "|    463|      2|\n",
      "|    471|      3|\n",
      "|    496|      4|\n",
      "|    833|      5|\n",
      "|   1088|      6|\n",
      "|   1238|      7|\n",
      "|   1342|      8|\n",
      "|   1580|      9|\n",
      "|   1591|     10|\n",
      "|   1645|     11|\n",
      "|   1829|     12|\n",
      "|   1959|     13|\n",
      "|   2122|     14|\n",
      "|   2142|     15|\n",
      "|   2366|     16|\n",
      "|   2659|     17|\n",
      "|   2866|     18|\n",
      "|   3175|     19|\n",
      "|   3749|     20|\n",
      "+-------+-------+\n",
      "only showing top 20 rows\n",
      "\n"
     ]
    }
   ],
   "source": [
    "movieNList_1 = movieNList_1.withColumn(\"row_idx\",row_number().over(Window.orderBy(monotonically_increasing_id())))\n",
    "movieNList_1.show()"
   ]
  },
  {
   "cell_type": "code",
   "execution_count": 31,
   "metadata": {},
   "outputs": [
    {
     "name": "stdout",
     "output_type": "stream",
     "text": [
      "+-------+-------+-------+-------+\n",
      "|movieId|row_idx|ratings|row_idx|\n",
      "+-------+-------+-------+-------+\n",
      "|    148|      1|      0|      1|\n",
      "|    463|      2|      0|      2|\n",
      "|    471|      3|      0|      3|\n",
      "|    496|      4|      0|      4|\n",
      "|    833|      5|      0|      5|\n",
      "|   1088|      6|      0|      6|\n",
      "|   1238|      7|      0|      7|\n",
      "|   1342|      8|      0|      8|\n",
      "|   1580|      9|      0|      9|\n",
      "|   1591|     10|      0|     10|\n",
      "|   1645|     11|      0|     11|\n",
      "|   1829|     12|      0|     12|\n",
      "|   1959|     13|      0|     13|\n",
      "|   2122|     14|      0|     14|\n",
      "|   2142|     15|      0|     15|\n",
      "|   2366|     16|      0|     16|\n",
      "|   2659|     17|      0|     17|\n",
      "|   2866|     18|      0|     18|\n",
      "|   3175|     19|      0|     19|\n",
      "|   3749|     20|      0|     20|\n",
      "+-------+-------+-------+-------+\n",
      "only showing top 20 rows\n",
      "\n",
      "27103 4\n"
     ]
    }
   ],
   "source": [
    "movieRC_1 = movieNList_1.join(dfsk_cmr_1, dfsk_cmr_1.row_idx==movieNList_1.row_idx, 'left')\n",
    "movieRC_1.show()\n",
    "print(movieRC_1.count(),len(movieRC_1.columns))"
   ]
  },
  {
   "cell_type": "code",
   "execution_count": 32,
   "metadata": {},
   "outputs": [
    {
     "name": "stdout",
     "output_type": "stream",
     "text": [
      "+-------+-------+-------+-------+\n",
      "|movieId|row_idx|ratings|row_idx|\n",
      "+-------+-------+-------+-------+\n",
      "|148    |1      |0      |1      |\n",
      "|463    |2      |0      |2      |\n",
      "|471    |3      |0      |3      |\n",
      "|496    |4      |0      |4      |\n",
      "|833    |5      |0      |5      |\n",
      "|1088   |6      |0      |6      |\n",
      "|1238   |7      |0      |7      |\n",
      "|1342   |8      |0      |8      |\n",
      "|1580   |9      |0      |9      |\n",
      "|1591   |10     |0      |10     |\n",
      "|1645   |11     |0      |11     |\n",
      "|1829   |12     |0      |12     |\n",
      "|1959   |13     |0      |13     |\n",
      "|2122   |14     |0      |14     |\n",
      "|2142   |15     |0      |15     |\n",
      "|2366   |16     |0      |16     |\n",
      "|2659   |17     |0      |17     |\n",
      "|2866   |18     |0      |18     |\n",
      "|3175   |19     |0      |19     |\n",
      "|3749   |20     |0      |20     |\n",
      "+-------+-------+-------+-------+\n",
      "only showing top 20 rows\n",
      "\n"
     ]
    }
   ],
   "source": [
    "movieRC_1.sort(col(\"ratings\").desc()).show(truncate=False)"
   ]
  },
  {
   "cell_type": "code",
   "execution_count": null,
   "metadata": {},
   "outputs": [],
   "source": []
  },
  {
   "cell_type": "code",
   "execution_count": null,
   "metadata": {},
   "outputs": [],
   "source": []
  },
  {
   "cell_type": "code",
   "execution_count": null,
   "metadata": {},
   "outputs": [],
   "source": [
    "class userRec:\n",
    "    def __init__(self):\n",
    "        self.movie = np.array()\n",
    "        "
   ]
  },
  {
   "cell_type": "code",
   "execution_count": null,
   "metadata": {},
   "outputs": [],
   "source": []
  }
 ],
 "metadata": {
  "kernelspec": {
   "display_name": "Python 3",
   "language": "python",
   "name": "python3"
  },
  "language_info": {
   "codemirror_mode": {
    "name": "ipython",
    "version": 3
   },
   "file_extension": ".py",
   "mimetype": "text/x-python",
   "name": "python",
   "nbconvert_exporter": "python",
   "pygments_lexer": "ipython3",
   "version": "3.9.1"
  }
 },
 "nbformat": 4,
 "nbformat_minor": 4
}
